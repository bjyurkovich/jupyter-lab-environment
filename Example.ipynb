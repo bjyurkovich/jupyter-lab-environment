{
 "cells": [
  {
   "cell_type": "markdown",
   "id": "fdd7851e-e361-460d-a799-6c16eb82f5ba",
   "metadata": {},
   "source": [
    "# This is an example Notebook"
   ]
  },
  {
   "cell_type": "code",
   "execution_count": 1,
   "id": "ff92f8b3-09b1-4094-abdf-7d402f802134",
   "metadata": {},
   "outputs": [],
   "source": [
    "x = 1"
   ]
  },
  {
   "cell_type": "code",
   "execution_count": 2,
   "id": "0330d3fc-84e1-4a04-90b0-4277065d16df",
   "metadata": {},
   "outputs": [
    {
     "name": "stdout",
     "output_type": "stream",
     "text": [
      "1\n"
     ]
    }
   ],
   "source": [
    "print(x)"
   ]
  },
  {
   "cell_type": "code",
   "execution_count": 3,
   "id": "17a91b93-6519-4f9e-a6aa-c4daa221149f",
   "metadata": {},
   "outputs": [
    {
     "name": "stdout",
     "output_type": "stream",
     "text": [
      "<!doctype html>\n"
     ]
    }
   ],
   "source": [
    "import requests as r\n",
    "res = r.get(\"https://google.com\")\n",
    "print(res.text[0:15])"
   ]
  },
  {
   "cell_type": "markdown",
   "id": "981a40f9-3a2d-4afe-8c45-17c6e9264596",
   "metadata": {},
   "source": [
    "This shows the first few lines of HTML gotten from `https://google.com`."
   ]
  },
  {
   "cell_type": "markdown",
   "id": "3c136d0f-7ccb-4dd9-bd37-0883514b3cf7",
   "metadata": {},
   "source": [
    "And here is some Latex\n",
    "$ \\int^2_0 i dt $"
   ]
  },
  {
   "cell_type": "code",
   "execution_count": null,
   "id": "6acf8c88-dc1e-454e-b183-7ed7a1ebf5d7",
   "metadata": {
    "tags": []
   },
   "outputs": [],
   "source": []
  },
  {
   "cell_type": "code",
   "execution_count": null,
   "id": "587cb13c-2af7-4d11-aad6-7ed2ca478cd5",
   "metadata": {
    "tags": []
   },
   "outputs": [],
   "source": []
  }
 ],
 "metadata": {
  "kernelspec": {
   "display_name": "Python 3",
   "language": "python",
   "name": "python3"
  },
  "language_info": {
   "codemirror_mode": {
    "name": "ipython",
    "version": 3
   },
   "file_extension": ".py",
   "mimetype": "text/x-python",
   "name": "python",
   "nbconvert_exporter": "python",
   "pygments_lexer": "ipython3",
   "version": "3.6.9"
  }
 },
 "nbformat": 4,
 "nbformat_minor": 5
}
