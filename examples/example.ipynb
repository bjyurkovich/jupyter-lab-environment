{
 "cells": [
  {
   "cell_type": "markdown",
   "id": "fdd7851e-e361-460d-a799-6c16eb82f5ba",
   "metadata": {},
   "source": [
    "# This is an example notebook working with Images"
   ]
  },
  {
   "cell_type": "markdown",
   "id": "900ec515-c57c-4818-8e17-df3db55347e8",
   "metadata": {},
   "source": [
    "The following does some uncanny edge detection."
   ]
  },
  {
   "cell_type": "code",
   "execution_count": 5,
   "id": "ff92f8b3-09b1-4094-abdf-7d402f802134",
   "metadata": {
    "tags": []
   },
   "outputs": [
    {
     "data": {
      "application/vnd.jupyter.widget-view+json": {
       "model_id": "04e31ce08a5144c5a2eb9144a322f030",
       "version_major": 2,
       "version_minor": 0
      },
      "text/plain": [
       "Canvas(toolbar=Toolbar(toolitems=[('Home', 'Reset original view', 'home', 'home'), ('Back', 'Back to previous …"
      ]
     },
     "metadata": {},
     "output_type": "display_data"
    }
   ],
   "source": [
    "import numpy as np\n",
    "import cv2\n",
    "from matplotlib import pyplot as plt\n",
    "\n",
    "%matplotlib widget\n",
    "img = cv2.imread('images/example.jpg',0)\n",
    "edges = cv2.Canny(img,150,150)\n",
    "plt.subplot(121),plt.imshow(img,cmap = 'gray')\n",
    "plt.title('Original Image'), plt.xticks([]), plt.yticks([])\n",
    "plt.subplot(122),plt.imshow(edges,cmap = 'gray')\n",
    "plt.title('Edge Image'), plt.xticks([]), plt.yticks([])\n",
    "plt.show()"
   ]
  },
  {
   "cell_type": "markdown",
   "id": "a7cd88e9-66c9-466d-b06a-1d8e22b31c6d",
   "metadata": {},
   "source": [
    "# Face Detection\n",
    "The following code does some face detection using `opencv`.  "
   ]
  },
  {
   "cell_type": "code",
   "execution_count": 6,
   "id": "0330d3fc-84e1-4a04-90b0-4277065d16df",
   "metadata": {},
   "outputs": [
    {
     "data": {
      "application/vnd.jupyter.widget-view+json": {
       "model_id": "bccca698583c46db935a37df8716e55c",
       "version_major": 2,
       "version_minor": 0
      },
      "text/plain": [
       "Canvas(toolbar=Toolbar(toolitems=[('Home', 'Reset original view', 'home', 'home'), ('Back', 'Back to previous …"
      ]
     },
     "metadata": {},
     "output_type": "display_data"
    }
   ],
   "source": [
    "face_cascade = cv2.CascadeClassifier('assets/haarcascade_frontalface_default.xml')\n",
    "\n",
    "# Read the input image\n",
    "img = cv2.imread('images/example.jpg')\n",
    "\n",
    "# Convert into grayscale\n",
    "gray = cv2.cvtColor(img, cv2.COLOR_BGR2GRAY)\n",
    "\n",
    "# Detect faces\n",
    "faces = face_cascade.detectMultiScale(gray, 1.1, 4)\n",
    "\n",
    "# Draw rectangle around the faces\n",
    "for (x, y, w, h) in faces:\n",
    "    cv2.rectangle(img, (x, y), (x+w, y+h), (255, 0, 0), 2)\n",
    "    \n",
    "# Display the output\n",
    "plt.figure()\n",
    "plt.imshow(img)\n",
    "plt.xticks([]), plt.yticks([])\n",
    "plt.show()"
   ]
  },
  {
   "cell_type": "markdown",
   "id": "6b991c91-ebcb-4118-9aff-1906cd422e82",
   "metadata": {},
   "source": [
    "If you would like to just display an image and not mess with `matplotlib`, you can use IPython's built in lib:"
   ]
  },
  {
   "cell_type": "code",
   "execution_count": 7,
   "id": "21187b82-6848-40a9-9733-54ce6b798453",
   "metadata": {},
   "outputs": [
    {
     "data": {
      "image/jpeg": "[encoded data removed]",
      "text/plain": [
       "<IPython.core.display.Image object>"
      ]
     },
     "execution_count": 7,
     "metadata": {},
     "output_type": "execute_result"
    }
   ],
   "source": [
    "from IPython.display import Image\n",
    "Image(filename='images/example.jpg') "
   ]
  },
  {
   "cell_type": "markdown",
   "id": "3c136d0f-7ccb-4dd9-bd37-0883514b3cf7",
   "metadata": {},
   "source": [
    "And here is some Latex\n",
    "$ \\int^2_0 i dt $ in case you were interested in using it."
   ]
  },
  {
   "cell_type": "markdown",
   "id": "e5763fe7-64da-4711-9626-c74069fbe92c",
   "metadata": {
    "tags": []
   },
   "source": [
    "## Some Blob Detection"
   ]
  },
  {
   "cell_type": "code",
   "execution_count": 8,
   "id": "587cb13c-2af7-4d11-aad6-7ed2ca478cd5",
   "metadata": {
    "tags": []
   },
   "outputs": [
    {
     "data": {
      "application/vnd.jupyter.widget-view+json": {
       "model_id": "1560e57c6a64479eb6f28192ef151993",
       "version_major": 2,
       "version_minor": 0
      },
      "text/plain": [
       "Canvas(toolbar=Toolbar(toolitems=[('Home', 'Reset original view', 'home', 'home'), ('Back', 'Back to previous …"
      ]
     },
     "metadata": {},
     "output_type": "display_data"
    }
   ],
   "source": [
    "import cv2\n",
    "import numpy as np\n",
    "from matplotlib import pyplot as plt\n",
    "\n",
    "img = cv2.imread('images/example.jpg',0)\n",
    "img = cv2.medianBlur(img,5)\n",
    "cimg = cv2.cvtColor(img,cv2.COLOR_GRAY2BGR)\n",
    "\n",
    "circles = cv2.HoughCircles(img,cv2.HOUGH_GRADIENT,1,10,\n",
    "                            param1=50,param2=12,minRadius=0,maxRadius=20)\n",
    "\n",
    "circles = np.uint16(np.around(circles))\n",
    "for i in circles[0,:]:\n",
    "    # draw the outer circle\n",
    "    cv2.circle(cimg,(i[0],i[1]),i[2],(0,255,0),2)\n",
    "    # draw the center of the circle\n",
    "    cv2.circle(cimg,(i[0],i[1]),2,(0,0,255),3)\n",
    "\n",
    "plt.figure()\n",
    "plt.imshow(cimg)\n",
    "plt.xticks([]), plt.yticks([])\n",
    "plt.show()\n"
   ]
  },
  {
   "cell_type": "code",
   "execution_count": null,
   "id": "8ec87d9b-04b8-4008-8b1d-c91a349cf647",
   "metadata": {},
   "outputs": [],
   "source": []
  }
 ],
 "metadata": {
  "kernelspec": {
   "display_name": "Python 3",
   "language": "python",
   "name": "python3"
  },
  "language_info": {
   "codemirror_mode": {
    "name": "ipython",
    "version": 3
   },
   "file_extension": ".py",
   "mimetype": "text/x-python",
   "name": "python",
   "nbconvert_exporter": "python",
   "pygments_lexer": "ipython3",
   "version": "3.6.9"
  }
 },
 "nbformat": 4,
 "nbformat_minor": 5
}
